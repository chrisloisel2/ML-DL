{
 "cells": [
  {
   "cell_type": "code",
   "execution_count": 3,
   "metadata": {},
   "outputs": [
    {
     "data": {
      "text/plain": [
       "(0.99995,\n",
       " '              precision    recall  f1-score   support\\n\\n           0       1.00      1.00      1.00     17883\\n           1       1.00      1.00      1.00      2117\\n\\n    accuracy                           1.00     20000\\n   macro avg       1.00      1.00      1.00     20000\\nweighted avg       1.00      1.00      1.00     20000\\n')"
      ]
     },
     "execution_count": 3,
     "metadata": {},
     "output_type": "execute_result"
    }
   ],
   "source": [
    "from sklearn.model_selection import train_test_split\n",
    "from sklearn.preprocessing import StandardScaler\n",
    "from sklearn.neural_network import MLPClassifier\n",
    "from sklearn.metrics import classification_report, accuracy_score\n",
    "import pandas as pd\n",
    "\n",
    "data = pd.read_csv('./employee_performance.csv')\n",
    "\n",
    "# Séparation des données en features (X) et target (y)\n",
    "X = data.drop('Performance', axis=1)\n",
    "y = data['Performance']\n",
    "\n",
    "# Séparation du dataset en ensemble d'entraînement et de test (80% train, 20% test)\n",
    "X_train, X_test, y_train, y_test = train_test_split(X, y, test_size=0.2, random_state=42)\n",
    "\n",
    "# Normalisation des caractéristiques pour une meilleure performance\n",
    "scaler = StandardScaler()\n",
    "X_train_scaled = scaler.fit_transform(X_train)\n",
    "X_test_scaled = scaler.transform(X_test)\n",
    "\n",
    "# Création et entraînement du modèle Perceptron Multicouches\n",
    "mlp = MLPClassifier(hidden_layer_sizes=(10, 5), max_iter=1000, random_state=42)\n",
    "mlp.fit(X_train_scaled, y_train)\n",
    "\n",
    "# Prédiction sur l'ensemble de test\n",
    "y_pred = mlp.predict(X_test_scaled)\n",
    "\n",
    "# Évaluation du modèle\n",
    "accuracy = accuracy_score(y_test, y_pred)\n",
    "report = classification_report(y_test, y_pred)\n",
    "\n",
    "accuracy, report\n"
   ]
  }
 ],
 "metadata": {
  "kernelspec": {
   "display_name": "tf",
   "language": "python",
   "name": "python3"
  },
  "language_info": {
   "codemirror_mode": {
    "name": "ipython",
    "version": 3
   },
   "file_extension": ".py",
   "mimetype": "text/x-python",
   "name": "python",
   "nbconvert_exporter": "python",
   "pygments_lexer": "ipython3",
   "version": "3.12.1"
  }
 },
 "nbformat": 4,
 "nbformat_minor": 2
}
